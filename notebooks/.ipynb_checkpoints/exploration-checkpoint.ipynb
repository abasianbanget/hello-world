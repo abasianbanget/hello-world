{
 "cells": [
  {
   "cell_type": "markdown",
   "id": "1a38c071",
   "metadata": {},
   "source": [
    "# Exploratory Data Analysis - Land Case Simulation\n",
    "\n",
    "This notebook explores the land data for our simulation project."
   ]
  },
  {
   "cell_type": "code",
   "execution_count": null,
   "id": "2c13c4c3",
   "metadata": {},
   "outputs": [],
   "source": [
    "import sys\n",
    "import os\n",
    "\n",
    "# Tambahkan path secara eksplisit\n",
    "current_dir = os.getcwd()\n",
    "src_path = os.path.join(current_dir, 'src')\n",
    "if src_path not in sys.path:\n",
    "    sys.path.insert(0, src_path)\n",
    "\n",
    "# Impor library\n",
    "try:\n",
    "    import geopandas as gpd\n",
    "    import pandas as pd\n",
    "    import matplotlib.pyplot as plt\n",
    "    import plotly.express as px\n",
    "    from data_ingestion import load_config, read_shapefile\n",
    "    from data_processing import clean_geospatial_data\n",
    "    from visualization import create_interactive_map, save_plotly_figure\n",
    "    print(\"✓ Semua library berhasil diimpor!\")\n",
    "    \n",
    "    # Verifikasi fungsi tersedia\n",
    "    print(\"Fungsi yang tersedia:\")\n",
    "    print(f\"load_config: {'load_config' in dir()}\")\n",
    "    print(f\"read_shapefile: {'read_shapefile' in dir()}\")\n",
    "    \n",
    "except ImportError as e:\n",
    "    print(f\"✗ Error impor: {e}\")\n",
    "    print(\"Instal dependencies dengan: pip install -r requirements.txt\")"
   ]
  },
  {
   "cell_type": "code",
   "execution_count": null,
   "id": "64cf9b03",
   "metadata": {},
   "outputs": [],
   "source": [
    "# Load configuration and data\n",
    "config = load_config()\n",
    "print(\"Configuration loaded:\", config)\n",
    "\n",
    "# Read the shapefile\n",
    "gdf = read_shapefile('../data/raw/sample_land_data.shp')\n",
    "print(f\"Data loaded with {len(gdf)} records\")\n",
    "\n",
    "# Clean the data\n",
    "gdf_clean = clean_geospatial_data(gdf, config['project_settings']['default_crs'])\n",
    "print(\"Data cleaned successfully\")"
   ]
  },
  {
   "cell_type": "code",
   "execution_count": null,
   "id": "fb57ca81",
   "metadata": {},
   "outputs": [],
   "source": [
    "# Explore the data\n",
    "print(\"Data columns:\", gdf_clean.columns.tolist())\n",
    "print(\"\\nData info:\")\n",
    "print(gdf_clean.info())\n",
    "print(\"\\nFirst 5 rows:\")\n",
    "print(gdf_clean.head())\n",
    "\n",
    "# Basic statistics\n",
    "print(\"\\nValue statistics:\")\n",
    "print(gdf_clean['value'].describe())"
   ]
  },
  {
   "cell_type": "code",
   "execution_count": null,
   "id": "c7d7cf64",
   "metadata": {},
   "outputs": [],
   "source": [
    "# Create visualizations\n",
    "# Histogram of values\n",
    "plt.figure(figsize=(10, 6))\n",
    "plt.hist(gdf_clean['value'], bins=20, edgecolor='black')\n",
    "plt.title('Distribution of Land Values')\n",
    "plt.xlabel('Value')\n",
    "plt.ylabel('Frequency')\n",
    "plt.show()\n",
    "\n",
    "# Interactive map\n",
    "fig = create_interactive_map(gdf_clean, 'value', 'Land Value Distribution')\n",
    "fig.show()"
   ]
  }
 ],
 "metadata": {
  "kernelspec": {
   "display_name": "Python 3 (ipykernel)",
   "language": "python",
   "name": "python3"
  },
  "language_info": {
   "codemirror_mode": {
    "name": "ipython",
    "version": 3
   },
   "file_extension": ".py",
   "mimetype": "text/x-python",
   "name": "python",
   "nbconvert_exporter": "python",
   "pygments_lexer": "ipython3",
   "version": "3.13.5"
  }
 },
 "nbformat": 4,
 "nbformat_minor": 5
}
