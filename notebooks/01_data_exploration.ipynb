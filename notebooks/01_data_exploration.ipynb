# Import libraries
import sys
sys.path.append('../src')

import pandas as pd
import geopandas as gpd
from data_ingestion import load_config, read_csv_with_pandas, read_shapefile
from data_processing import clean_geospatial_data
from visualization import create_interactive_map, save_plotly_figure

# Load konfigurasi
config = load_config()

# Baca data CSV
df = read_csv_with_pandas('../data/raw/sample_data.csv')
print("Data CSV:")
print(df.head())

# Baca shapefile
gdf = read_shapefile('../data/raw/sample_data.shp')
print("\nData Shapefile:")
print(gdf.head())

# Bersihkan data geospatial
gdf_clean = clean_geospatial_data(gdf, config['project_settings']['default_crs'])

# Buat visualisasi
fig = create_interactive_map(gdf_clean, 'value', 'Peta Sample Data Lahan')
save_plotly_figure(fig, '../outputs/maps/sample_map.html')

print("Peta interaktif telah disimpan di outputs/maps/sample_map.html")