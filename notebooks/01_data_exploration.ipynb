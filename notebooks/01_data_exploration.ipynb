# File: notebooks/01_data_exploration.ipynb
# Isi dengan kode berikut:

# %% [markdown]
# # Eksplorasi Data Lahan
# Notebook ini untuk eksplorasi data lahan awal

# %%
import sys
sys.path.append('../src')

import pandas as pd
import geopandas as gpd
from data_ingestion import load_config, read_csv_with_pandas, read_shapefile
from data_processing import clean_geospatial_data
from visualization import create_interactive_map, save_plotly_figure

# %%
# Load konfigurasi
config = load_config()

# %%
# Contoh membaca data CSV
# df = read_csv_with_pandas('../data/raw/data_lahan.csv')

# %%
# Contoh membaca shapefile
# gdf = read_shapefile('../data/raw/shapefile_lahan.shp')
# gdf_clean = clean_geospatial_data(gdf, config['project_settings']['default_crs'])

# %%
# Contoh membuat visualisasi
# fig = create_interactive_map(gdf_clean, 'column_name', 'Judul Peta')
# save_plotly_figure(fig, '../outputs/maps/peta_interaktif.html')