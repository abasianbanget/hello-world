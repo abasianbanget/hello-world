# %%
import pandas as pd
import geopandas as gpd
import plotly.express as px

# Load data contoh (ganti dengan data Anda)
# df = pd.read_csv('../data/raw/data_lahan.csv')
# gdf = gpd.read_file('../data/raw/shapefile_lahan.shp')

# Contoh plot interaktif dengan Plotly
# fig = px.scatter_mapbox(df, lat="latitude", lon="longitude", zoom=10)
# fig.show()